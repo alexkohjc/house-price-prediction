{
 "cells": [
  {
   "cell_type": "code",
   "execution_count": 1,
   "metadata": {},
   "outputs": [],
   "source": [
    "import numpy as np\n",
    "import pandas as pd"
   ]
  },
  {
   "cell_type": "code",
   "execution_count": 2,
   "metadata": {},
   "outputs": [],
   "source": [
    "train_df = pd.read_csv('input/train.csv')\n",
    "#test_df = pd.read_csv('input/test.csv')"
   ]
  },
  {
   "cell_type": "code",
   "execution_count": 6,
   "metadata": {},
   "outputs": [],
   "source": [
    "cols = ['OverallQual', 'GrLivArea', 'GarageCars',\n",
    "       'GarageArea', 'TotalBsmtSF', '1stFlrSF', 'FullBath',\n",
    "       'TotRmsAbvGrd', 'YearBuilt', 'KitchenAbvGr', 'EnclosedPorch',\n",
    "       'MSSubClass', 'OverallCond', 'YrSold', 'LowQualFinSF', 'Id',\n",
    "       'MiscVal', 'BsmtHalfBath', 'BsmtFinSF2', 'SalePrice']"
   ]
  },
  {
   "cell_type": "code",
   "execution_count": 7,
   "metadata": {},
   "outputs": [],
   "source": [
    "train_df = train_df[cols]"
   ]
  },
  {
   "cell_type": "code",
   "execution_count": 9,
   "metadata": {},
   "outputs": [],
   "source": [
    "X = train_df.iloc[:, :-1].values\n",
    "y = train_df.iloc[:, -1].values"
   ]
  },
  {
   "cell_type": "code",
   "execution_count": 10,
   "metadata": {},
   "outputs": [],
   "source": [
    "from sklearn.model_selection import train_test_split\n",
    "X_train, X_test, y_train, y_test = train_test_split(X, y, test_size = 0.2, random_state = 0)"
   ]
  },
  {
   "cell_type": "markdown",
   "metadata": {},
   "source": [
    "# Model Fitting"
   ]
  },
  {
   "cell_type": "code",
   "execution_count": 37,
   "metadata": {
    "scrolled": true
   },
   "outputs": [
    {
     "data": {
      "text/plain": [
       "RandomForestRegressor(bootstrap=True, ccp_alpha=0.0, criterion='mse',\n",
       "                      max_depth=None, max_features='auto', max_leaf_nodes=None,\n",
       "                      max_samples=None, min_impurity_decrease=0.0,\n",
       "                      min_impurity_split=None, min_samples_leaf=1,\n",
       "                      min_samples_split=2, min_weight_fraction_leaf=0.0,\n",
       "                      n_estimators=10, n_jobs=None, oob_score=False,\n",
       "                      random_state=0, verbose=0, warm_start=False)"
      ]
     },
     "execution_count": 37,
     "metadata": {},
     "output_type": "execute_result"
    }
   ],
   "source": [
    "from sklearn.linear_model import LinearRegression\n",
    "from sklearn.preprocessing import PolynomialFeatures\n",
    "from sklearn.svm import SVR\n",
    "from sklearn.tree import DecisionTreeRegressor\n",
    "from sklearn.ensemble import RandomForestRegressor\n",
    "\n",
    "# (Multiple) Linear Regression\n",
    "lin_reg = LinearRegression()\n",
    "lin_reg.fit(X_train, y_train)\n",
    "\n",
    "# Support Vector Regression\n",
    "supp_vec_reg = SVR(kernel = 'rbf')\n",
    "supp_vec_reg.fit(X_train, y_train)\n",
    "\n",
    "# Decision Trees\n",
    "d_tree = DecisionTreeRegressor(random_state = 0)\n",
    "d_tree.fit(X_train, y_train)\n",
    "\n",
    "# Random Forest\n",
    "r_forest = RandomForestRegressor(n_estimators = 10, random_state = 0)\n",
    "r_forest.fit(X_train, y_train)"
   ]
  },
  {
   "cell_type": "markdown",
   "metadata": {},
   "source": [
    "# Calculating RMSE"
   ]
  },
  {
   "cell_type": "code",
   "execution_count": 51,
   "metadata": {},
   "outputs": [
    {
     "name": "stdout",
     "output_type": "stream",
     "text": [
      "Linear Reg: 49382.75\n",
      "Support Vector Reg: 85076.20\n",
      "Decision Tree: 36937.23\n",
      "Random Forest: 36092.23\n"
     ]
    }
   ],
   "source": [
    "from sklearn.metrics import mean_squared_error\n",
    "\n",
    "y_pred_lin_reg = lin_reg.predict(X_test)\n",
    "y_pred_supp_vec_reg = supp_vec_reg.predict(X_test)\n",
    "y_pred_d_tree = d_tree.predict(X_test)\n",
    "y_pred_r_forest = r_forest.predict(X_test)\n",
    "\n",
    "print(\"Linear Reg: \" + \"{:.2f}\".format(mean_squared_error(y_test, y_pred_lin_reg, squared=False)))\n",
    "print(\"Support Vector Reg: \" + \"{:.2f}\".format(mean_squared_error(y_test, y_pred_supp_vec_reg, squared=False)))\n",
    "print(\"Decision Tree: \" + \"{:.2f}\".format(mean_squared_error(y_test, y_pred_d_tree, squared=False)))\n",
    "print(\"Random Forest: \" + \"{:.2f}\".format(mean_squared_error(y_test, y_pred_r_forest, squared=False)))"
   ]
  },
  {
   "cell_type": "code",
   "execution_count": null,
   "metadata": {},
   "outputs": [],
   "source": []
  },
  {
   "cell_type": "code",
   "execution_count": null,
   "metadata": {},
   "outputs": [],
   "source": []
  },
  {
   "cell_type": "code",
   "execution_count": null,
   "metadata": {},
   "outputs": [],
   "source": []
  },
  {
   "cell_type": "code",
   "execution_count": null,
   "metadata": {},
   "outputs": [],
   "source": []
  },
  {
   "cell_type": "code",
   "execution_count": null,
   "metadata": {},
   "outputs": [],
   "source": []
  }
 ],
 "metadata": {
  "kernelspec": {
   "display_name": "Python 3",
   "language": "python",
   "name": "python3"
  },
  "language_info": {
   "codemirror_mode": {
    "name": "ipython",
    "version": 3
   },
   "file_extension": ".py",
   "mimetype": "text/x-python",
   "name": "python",
   "nbconvert_exporter": "python",
   "pygments_lexer": "ipython3",
   "version": "3.6.10"
  }
 },
 "nbformat": 4,
 "nbformat_minor": 4
}
